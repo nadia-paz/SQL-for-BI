{
 "cells": [
  {
   "cell_type": "code",
   "execution_count": 1,
   "id": "f769598f",
   "metadata": {},
   "outputs": [],
   "source": [
    "import random\n",
    "import pandas as pd"
   ]
  },
  {
   "cell_type": "code",
   "execution_count": 2,
   "id": "6774e5ae",
   "metadata": {},
   "outputs": [],
   "source": [
    "sources = [\n",
    "    \"google / cpc\",\n",
    "    \"google / organic\",\n",
    "    \"bing / cpc\",\n",
    "    \"moviereviews / display\",\n",
    "    \"direct / none\",\n",
    "    \"yelp / referral\"\n",
    "]"
   ]
  },
  {
   "cell_type": "code",
   "execution_count": 21,
   "id": "5cb76f6f",
   "metadata": {},
   "outputs": [
    {
     "data": {
      "text/plain": [
       "[(1, 'direct / none'),\n",
       " (2, 'yelp / referral'),\n",
       " (3, 'yelp / referral'),\n",
       " (4, 'google / organic'),\n",
       " (5, 'moviereviews / display')]"
      ]
     },
     "execution_count": 21,
     "metadata": {},
     "output_type": "execute_result"
    }
   ],
   "source": [
    "traffic = random.choices(sources, weights=[20, 10, 3, 5, 15, 8], k=599)\n",
    "ids = [(idx+1, x) for idx, x in enumerate(traffic)]\n",
    "ids[:5]"
   ]
  },
  {
   "cell_type": "code",
   "execution_count": 19,
   "id": "3dcc421b",
   "metadata": {},
   "outputs": [
    {
     "data": {
      "text/html": [
       "<div>\n",
       "<style scoped>\n",
       "    .dataframe tbody tr th:only-of-type {\n",
       "        vertical-align: middle;\n",
       "    }\n",
       "\n",
       "    .dataframe tbody tr th {\n",
       "        vertical-align: top;\n",
       "    }\n",
       "\n",
       "    .dataframe thead th {\n",
       "        text-align: right;\n",
       "    }\n",
       "</style>\n",
       "<table border=\"1\" class=\"dataframe\">\n",
       "  <thead>\n",
       "    <tr style=\"text-align: right;\">\n",
       "      <th></th>\n",
       "      <th>user_id</th>\n",
       "      <th>source</th>\n",
       "    </tr>\n",
       "  </thead>\n",
       "  <tbody>\n",
       "    <tr>\n",
       "      <th>0</th>\n",
       "      <td>1</td>\n",
       "      <td>google / cpc</td>\n",
       "    </tr>\n",
       "    <tr>\n",
       "      <th>1</th>\n",
       "      <td>2</td>\n",
       "      <td>bing / cpc</td>\n",
       "    </tr>\n",
       "    <tr>\n",
       "      <th>2</th>\n",
       "      <td>3</td>\n",
       "      <td>direct / none</td>\n",
       "    </tr>\n",
       "    <tr>\n",
       "      <th>3</th>\n",
       "      <td>4</td>\n",
       "      <td>yelp / referral</td>\n",
       "    </tr>\n",
       "    <tr>\n",
       "      <th>4</th>\n",
       "      <td>5</td>\n",
       "      <td>google / organic</td>\n",
       "    </tr>\n",
       "  </tbody>\n",
       "</table>\n",
       "</div>"
      ],
      "text/plain": [
       "   user_id            source\n",
       "0        1      google / cpc\n",
       "1        2        bing / cpc\n",
       "2        3     direct / none\n",
       "3        4   yelp / referral\n",
       "4        5  google / organic"
      ]
     },
     "execution_count": 19,
     "metadata": {},
     "output_type": "execute_result"
    }
   ],
   "source": [
    "df = pd.DataFrame(ids, columns=[\"user_id\", \"source\"])\n",
    "df.head()"
   ]
  },
  {
   "cell_type": "code",
   "execution_count": 12,
   "id": "6d874067",
   "metadata": {},
   "outputs": [
    {
     "data": {
      "text/plain": [
       "google / cpc              193\n",
       "direct / none             138\n",
       "google / organic           92\n",
       "yelp / referral            91\n",
       "moviereviews / display     57\n",
       "bing / cpc                 28\n",
       "Name: source, dtype: int64"
      ]
     },
     "execution_count": 12,
     "metadata": {},
     "output_type": "execute_result"
    }
   ],
   "source": [
    "df.source.value_counts()"
   ]
  },
  {
   "cell_type": "code",
   "execution_count": 16,
   "id": "eb991f42",
   "metadata": {},
   "outputs": [],
   "source": [
    "df.to_csv(\"customer_sources.csv\", sep = \",\", index=False, header=False)"
   ]
  },
  {
   "cell_type": "code",
   "execution_count": 17,
   "id": "716ecd65",
   "metadata": {},
   "outputs": [
    {
     "name": "stdout",
     "output_type": "stream",
     "text": [
      "\u001b[sPreparing to copy...\u001b[?25l\u001b[u\u001b[2KCopying to container - 0B\u001b[?25h\u001b[u\u001b[2KSuccessfully copied 13.3kB to advanced_sql:/var/lib/postgresql/dvd_db\r\n"
     ]
    }
   ],
   "source": [
    "# copy to postgres on docker\n",
    "!docker cp ./customer_sources.csv advanced_sql:/var/lib/postgresql/dvd_db"
   ]
  }
 ],
 "metadata": {
  "kernelspec": {
   "display_name": "Python 3 (ipykernel)",
   "language": "python",
   "name": "python3"
  },
  "language_info": {
   "codemirror_mode": {
    "name": "ipython",
    "version": 3
   },
   "file_extension": ".py",
   "mimetype": "text/x-python",
   "name": "python",
   "nbconvert_exporter": "python",
   "pygments_lexer": "ipython3",
   "version": "3.10.9"
  }
 },
 "nbformat": 4,
 "nbformat_minor": 5
}
